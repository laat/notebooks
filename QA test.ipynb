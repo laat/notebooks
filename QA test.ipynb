{
 "cells": [
  {
   "cell_type": "markdown",
   "metadata": {},
   "source": [
    "# Naive Bayes Intent Classification\n",
    "\n",
    "Super simple, naive bayes,"
   ]
  },
  {
   "cell_type": "code",
   "execution_count": 15,
   "metadata": {
    "collapsed": false
   },
   "outputs": [
    {
     "data": {
      "text/plain": [
       "'en_US.UTF-8'"
      ]
     },
     "execution_count": 15,
     "metadata": {},
     "output_type": "execute_result"
    }
   ],
   "source": [
    "import locale\n",
    "locale.setlocale(locale.LC_ALL, 'en_US.UTF-8')"
   ]
  },
  {
   "cell_type": "code",
   "execution_count": 16,
   "metadata": {
    "code_folding": [
     0
    ],
    "collapsed": false
   },
   "outputs": [],
   "source": [
    "# setup\n",
    "import matplotlib\n",
    "import numpy as np\n",
    "import matplotlib.pyplot as plt\n",
    "import scipy\n",
    "from scipy.stats import norm\n",
    "from sklearn import datasets\n",
    "from sklearn.datasets.base import Bunch\n",
    "from IPython.display import Image\n",
    "import regex as re\n",
    "%matplotlib inline"
   ]
  },
  {
   "cell_type": "markdown",
   "metadata": {},
   "source": [
    "## Itsy Bitsy Teenie Weenie Silly Dataset\n",
    "Dataset. Alt for få."
   ]
  },
  {
   "cell_type": "code",
   "execution_count": 30,
   "metadata": {
    "collapsed": false
   },
   "outputs": [
    {
     "data": {
      "text/plain": [
       "([u'Hvor mye penger har jeg p\\xe5 konto?',\n",
       "  u'Hva er saldoen min i dag?',\n",
       "  u'Hvor mye penger er det p\\xe5 kontoen min i dag?',\n",
       "  u'saldo?',\n",
       "  u'Hva er saldoen min n\\xe5?',\n",
       "  u'Hva st\\xe5r p\\xe5 kontoen min n\\xe5?',\n",
       "  u'Er det mye penger p\\xe5 kontoen min?',\n",
       "  u'Hvor mange kroner har jeg?',\n",
       "  u'Hvor mye penger har jeg?',\n",
       "  u'Har jeg penger p\\xe5 konto?',\n",
       "  u'Hvor mye penger brukte jeg i g\\xe5r?',\n",
       "  u'Hvor mye penger brukte jeg p\\xe5 kiwi forrige uke?',\n",
       "  u'Hva har jeg brukt p\\xe5 narvesen?',\n",
       "  u'Bruker jeg mye penger p\\xe5 H&M?',\n",
       "  u'Hvor mye penger bruker jeg i uka?',\n",
       "  u'Hvor mange kroner har jeg sl\\xf8st bort p\\xe5 kiosk?',\n",
       "  u'Bruker jeg mye penger p\\xe5 kl\\xe6r?',\n",
       "  u'Hvor mye penger bruker jeg i uka?',\n",
       "  u'Hva har jeg brukt penger p\\xe5 i \\xe5r?',\n",
       "  u'Har jeg brukt penger p\\xe5 kebab i det siste?'],\n",
       " [1, 1, 1, 1, 1, 1, 1, 1, 1, 1, 2, 2, 2, 2, 2, 2, 2, 2, 2, 2])"
      ]
     },
     "execution_count": 30,
     "metadata": {},
     "output_type": "execute_result"
    }
   ],
   "source": [
    "saldoNow = [\n",
    "    u\"Hvor mye penger har jeg på konto?\",\n",
    "    u\"Hva er saldoen min i dag?\",\n",
    "    u\"Hvor mye penger er det på kontoen min i dag?\",\n",
    "    u\"saldo?\",\n",
    "    u\"Hva er saldoen min nå?\",\n",
    "    u\"Hva står på kontoen min nå?\",\n",
    "    u\"Er det mye penger på kontoen min?\",\n",
    "    u\"Hvor mange kroner har jeg?\",\n",
    "    u\"Hvor mye penger har jeg?\",\n",
    "    u\"Har jeg penger på konto?\"\n",
    "]\n",
    "\n",
    "bruk = [\n",
    "    u\"Hvor mye penger brukte jeg i går?\",\n",
    "    u\"Hvor mye penger brukte jeg på kiwi forrige uke?\",\n",
    "    u\"Hva har jeg brukt på narvesen?\",\n",
    "    u\"Bruker jeg mye penger på H&M?\",\n",
    "    u\"Hvor mye penger bruker jeg i uka?\",\n",
    "    u\"Hvor mange kroner har jeg sløst bort på kiosk?\",\n",
    "    u\"Bruker jeg mye penger på klær?\",\n",
    "    u\"Hvor mye penger bruker jeg i uka?\",\n",
    "    u\"Hva har jeg brukt penger på i år?\",\n",
    "    u\"Har jeg brukt penger på kebab i det siste?\"\n",
    "]\n",
    "\n",
    "data = saldoNow + bruk\n",
    "target = [1 for _ in range(len(saldoNow))] + [2 for _ in range(len(bruk))]\n",
    "data, target"
   ]
  },
  {
   "cell_type": "code",
   "execution_count": 31,
   "metadata": {
    "collapsed": false
   },
   "outputs": [],
   "source": [
    "from stop_words import get_stop_words\n",
    "from nltk.stem.snowball import SnowballStemmer\n",
    "stemmer = SnowballStemmer(\"norwegian\")\n",
    "sw = get_stop_words('norwegian')\n",
    "\n",
    "def clean(x):\n",
    "    x = x.lower();\n",
    "    x = re.sub(ur'[^\\w\\s]','',x,re.UNICODE) # bare bokstaver, ingen \"?.,\"\n",
    "    x = x.split(\" \"); \n",
    "    x = filter(lambda w: w not in sw, x) # stop ord er ikke nyttig?\n",
    "    x = map(stemmer.stem, x) # ordstammer, driter i bøyning av ord.\n",
    "    x = \" \".join(x);\n",
    "    return x"
   ]
  },
  {
   "cell_type": "code",
   "execution_count": 32,
   "metadata": {
    "collapsed": false
   },
   "outputs": [
    {
     "data": {
      "text/plain": [
       "[u'mye peng konto',\n",
       " u'saldo dag',\n",
       " u'mye peng konto dag',\n",
       " u'saldo',\n",
       " u'saldo',\n",
       " u'st\\xe5r konto',\n",
       " u'mye peng konto',\n",
       " u'kron',\n",
       " u'mye peng',\n",
       " u'peng konto',\n",
       " u'mye peng brukt g\\xe5r',\n",
       " u'mye peng brukt kiwi forr uke',\n",
       " u'brukt narves',\n",
       " u'bruk mye peng hm',\n",
       " u'mye peng bruk uka',\n",
       " u'kron sl\\xf8st bort kiosk',\n",
       " u'bruk mye peng kl\\xe6r',\n",
       " u'mye peng bruk uka',\n",
       " u'brukt peng \\xe5r',\n",
       " u'brukt peng kebab sist']"
      ]
     },
     "execution_count": 32,
     "metadata": {},
     "output_type": "execute_result"
    }
   ],
   "source": [
    "data = map(clean, data)\n",
    "data"
   ]
  },
  {
   "cell_type": "code",
   "execution_count": 33,
   "metadata": {
    "collapsed": false
   },
   "outputs": [],
   "source": [
    "from sklearn.feature_extraction.text import CountVectorizer\n",
    "vectorizer = CountVectorizer(analyzer = \"word\",   \\\n",
    "                             tokenizer = None,    \\\n",
    "                             preprocessor = None, \\\n",
    "                             stop_words = None,   \\\n",
    "                             max_features = 5000) \n",
    "train_data_features = vectorizer.fit_transform(data)\n",
    "train_data_features = train_data_features.toarray()"
   ]
  },
  {
   "cell_type": "code",
   "execution_count": 34,
   "metadata": {
    "collapsed": false
   },
   "outputs": [
    {
     "name": "stdout",
     "output_type": "stream",
     "text": [
      "[u'bort', u'bruk', u'brukt', u'dag', u'forr', u'g\\xe5r', u'hm', u'kebab', u'kiosk', u'kiwi', u'kl\\xe6r', u'konto', u'kron', u'mye', u'narves', u'peng', u'saldo', u'sist', u'sl\\xf8st', u'st\\xe5r', u'uka', u'uke', u'\\xe5r']\n"
     ]
    }
   ],
   "source": [
    "# Take a look at the words in the vocabulary\n",
    "vocab = vectorizer.get_feature_names()\n",
    "print vocab"
   ]
  },
  {
   "cell_type": "code",
   "execution_count": 35,
   "metadata": {
    "collapsed": false
   },
   "outputs": [
    {
     "name": "stdout",
     "output_type": "stream",
     "text": [
      "1 bort\n",
      "4 bruk\n",
      "5 brukt\n",
      "2 dag\n",
      "1 forr\n",
      "1 går\n",
      "1 hm\n",
      "1 kebab\n",
      "1 kiosk\n",
      "1 kiwi\n",
      "1 klær\n",
      "5 konto\n",
      "2 kron\n",
      "10 mye\n",
      "1 narves\n",
      "13 peng\n",
      "3 saldo\n",
      "1 sist\n",
      "1 sløst\n",
      "1 står\n",
      "2 uka\n",
      "1 uke\n",
      "1 år\n"
     ]
    }
   ],
   "source": [
    "import numpy as np\n",
    "\n",
    "# Sum up the counts of each vocabulary word\n",
    "dist = np.sum(train_data_features, axis=0)\n",
    "\n",
    "# For each, print the vocabulary word and the number of times it \n",
    "# appears in the training set\n",
    "for tag, count in zip(vocab, dist):\n",
    "    print count, tag"
   ]
  },
  {
   "cell_type": "code",
   "execution_count": 36,
   "metadata": {
    "collapsed": false
   },
   "outputs": [
    {
     "data": {
      "text/plain": [
       "BernoulliNB(alpha=1.0, binarize=0.0, class_prior=None, fit_prior=True)"
      ]
     },
     "execution_count": 36,
     "metadata": {},
     "output_type": "execute_result"
    }
   ],
   "source": [
    "from sklearn.naive_bayes import BernoulliNB\n",
    "\n",
    "cls = BernoulliNB()\n",
    "cls.fit(train_data_features, target)"
   ]
  },
  {
   "cell_type": "code",
   "execution_count": 27,
   "metadata": {
    "collapsed": false
   },
   "outputs": [],
   "source": [
    "def classify(x):\n",
    "    return cls.predict(vectorizer.transform([clean(x)]).toarray())[0]"
   ]
  },
  {
   "cell_type": "code",
   "execution_count": 39,
   "metadata": {
    "collapsed": false
   },
   "outputs": [
    {
     "data": {
      "text/plain": [
       "1"
      ]
     },
     "execution_count": 39,
     "metadata": {},
     "output_type": "execute_result"
    }
   ],
   "source": [
    "classify(u\"hvor mye penger har jeg igjen?\")"
   ]
  },
  {
   "cell_type": "code",
   "execution_count": 40,
   "metadata": {
    "collapsed": false
   },
   "outputs": [
    {
     "data": {
      "text/plain": [
       "2"
      ]
     },
     "execution_count": 40,
     "metadata": {},
     "output_type": "execute_result"
    }
   ],
   "source": [
    "classify(u\"hvor mye brukte jeg i går?\")"
   ]
  },
  {
   "cell_type": "code",
   "execution_count": null,
   "metadata": {
    "collapsed": false
   },
   "outputs": [],
   "source": []
  }
 ],
 "metadata": {
  "kernelspec": {
   "display_name": "Python 2",
   "language": "python",
   "name": "python2"
  },
  "language_info": {
   "codemirror_mode": {
    "name": "ipython",
    "version": 2
   },
   "file_extension": ".py",
   "mimetype": "text/x-python",
   "name": "python",
   "nbconvert_exporter": "python",
   "pygments_lexer": "ipython2",
   "version": "2.7.11"
  }
 },
 "nbformat": 4,
 "nbformat_minor": 1
}
